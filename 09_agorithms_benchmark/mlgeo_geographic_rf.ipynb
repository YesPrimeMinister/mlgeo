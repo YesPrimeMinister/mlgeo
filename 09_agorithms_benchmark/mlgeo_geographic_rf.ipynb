{
 "cells": [
  {
   "cell_type": "markdown",
   "metadata": {},
   "source": [
    "# ___\n",
    "\n",
    "# [ Machine Learning in Geosciences ]\n",
    "\n",
    "**Department of Applied Geoinformatics and Carthography, Charles University** \n",
    "\n",
    "*Lukas Brodsky lukas.brodsky@natur.cuni.cz*\n",
    "\n",
    "    \n",
    "___\n"
   ]
  },
  {
   "cell_type": "markdown",
   "metadata": {},
   "source": [
    "## Geographic Random Forest\n",
    "\n",
    "Example based on simulated data "
   ]
  },
  {
   "cell_type": "code",
   "execution_count": null,
   "metadata": {},
   "outputs": [],
   "source": [
    "import os\n",
    "from copy import deepcopy\n",
    "import numpy as np\n",
    "import gdal\n",
    "import matplotlib.pyplot as plt\n",
    "%matplotlib inline\n",
    "\n",
    "from sklearn.ensemble import RandomForestRegressor\n",
    "from sklearn.model_selection import GridSearchCV\n",
    "from sklearn.metrics import mean_squared_error"
   ]
  },
  {
   "cell_type": "markdown",
   "metadata": {},
   "source": [
    "### Data"
   ]
  },
  {
   "cell_type": "code",
   "execution_count": null,
   "metadata": {},
   "outputs": [],
   "source": [
    "# update path\n",
    "PATH = '/Users/lukasbrodsky/Work/Prfuk/Vyuka/Machine_Learning_in_Geosciences/mlgeo/10_geographic_rf/data/'\n",
    "filename = 'syngeo.tif'\n",
    "\n",
    "fn = os.path.join(PATH, filename)"
   ]
  },
  {
   "cell_type": "code",
   "execution_count": null,
   "metadata": {},
   "outputs": [],
   "source": [
    "ds = gdal.Open(fn)\n",
    "X_full = ds.GetRasterBand(1).ReadAsArray()\n",
    "X_full.shape"
   ]
  },
  {
   "cell_type": "code",
   "execution_count": null,
   "metadata": {},
   "outputs": [],
   "source": [
    "def build_checkerboard(w, h):\n",
    "    re = np.r_[ w*[0,1] ] \n",
    "    ro = np.r_[ w*[1,0] ] \n",
    "    \n",
    "    return np.row_stack(h*(re, ro))"
   ]
  },
  {
   "cell_type": "code",
   "execution_count": null,
   "metadata": {},
   "outputs": [],
   "source": [
    "samples = build_checkerboard(int(X.shape[1] / 2), int(X.shape[0] / 2))"
   ]
  },
  {
   "cell_type": "code",
   "execution_count": null,
   "metadata": {},
   "outputs": [],
   "source": [
    "X = X_full\n",
    "y = X_full + (np.random.randn(X_full.shape[0], X_full.shape[1]) * 500) # add noise\n",
    "X_ = X.flatten().reshape(-1, 1)\n",
    "y_ = y.flatten().reshape(-1, 1)\n",
    "\n",
    "# print(X_.shape) \n",
    "# print(y_.shape)"
   ]
  },
  {
   "cell_type": "code",
   "execution_count": null,
   "metadata": {},
   "outputs": [],
   "source": [
    "plt.plot(X.flatten(), y.flatten(), 'b.')"
   ]
  },
  {
   "cell_type": "markdown",
   "metadata": {},
   "source": [
    "### Global RF"
   ]
  },
  {
   "cell_type": "code",
   "execution_count": null,
   "metadata": {},
   "outputs": [],
   "source": [
    "# Global Random Forest\n",
    "param_grid = [{'n_estimators': [10, 30, 50, 100, 200]}]\n",
    "\n",
    "forest_reg = RandomForestRegressor(random_state=42)\n",
    "\n",
    "grid_search = GridSearchCV(forest_reg, param_grid, cv=5,\n",
    "                           scoring='neg_mean_squared_error', return_train_score=True)\n",
    "grid_search.fit(X_, y_[:, 0])"
   ]
  },
  {
   "cell_type": "code",
   "execution_count": null,
   "metadata": {},
   "outputs": [],
   "source": [
    "grid_search.best_params_"
   ]
  },
  {
   "cell_type": "code",
   "execution_count": null,
   "metadata": {},
   "outputs": [],
   "source": [
    "final_model = grid_search.best_estimator_\n",
    "final_predictions = final_model.predict(X_)\n",
    "final_mse = mean_squared_error(y_, final_predictions)\n",
    "global_rmse = np.sqrt(final_mse)\n",
    "print(global_rmse)"
   ]
  },
  {
   "cell_type": "markdown",
   "metadata": {},
   "source": [
    "### Local RFs"
   ]
  },
  {
   "cell_type": "code",
   "execution_count": null,
   "metadata": {},
   "outputs": [],
   "source": [
    "# Lokalni RFs\n",
    "\n",
    "bandwidth = 20\n",
    "# TODO: add stride = bandwidth\n",
    "\n",
    "local_param_grid = [{'n_estimators': [3, 5, 10, 15, 30]}]\n",
    "local_rmse = []\n",
    "lrf = RandomForestRegressor(oob_score=True, max_features=None, random_state=42)\n",
    "\n",
    "for i in range(int(X.shape[0] / bandwidth)):\n",
    "    i_coord = int(i * bandwidth + (bandwidth / 2))\n",
    "\n",
    "    for j in range(int(X.shape[1] / bandwidth)):\n",
    "        j_coord = int(j * bandwidth + (bandwidth / 2))\n",
    "        print('Local coords: ', i_coord, j_coord)\n",
    "        \n",
    "        X_ij = X[i_coord - int(bandwidth/2) : i_coord + int(bandwidth/2), \n",
    "                 j_coord - int(bandwidth/2) : j_coord + int(bandwidth/2)]\n",
    "\n",
    "        y_ij = y[i_coord - int(bandwidth/2) : i_coord + int(bandwidth/2), \n",
    "                 j_coord - int(bandwidth/2) : j_coord + int(bandwidth/2)]\n",
    "        \n",
    "        lrf_ = deepcopy(lrf)\n",
    "        grid_search = GridSearchCV(lrf_, local_param_grid, cv=3,\n",
    "                           scoring='neg_mean_squared_error', return_train_score=True)\n",
    "        grid_search.fit(X_ij.flatten().reshape(-1, 1), (y_ij.flatten().reshape(-1, 1))[:,0])\n",
    "        best_model = grid_search.best_estimator_\n",
    "        print(grid_search.best_params_)\n",
    "        best_predictions = best_model.predict(X_ij.flatten().reshape(-1, 1))\n",
    "        best_mse = mean_squared_error((y_ij.flatten().reshape(-1, 1))[:,0], best_predictions)\n",
    "        best_rmse = np.sqrt(best_mse)\n",
    "        local_rmse.append(best_rmse)\n",
    "        print(best_rmse)\n",
    "        print('---')\n"
   ]
  },
  {
   "cell_type": "code",
   "execution_count": null,
   "metadata": {},
   "outputs": [],
   "source": [
    "print('Globale model RMSE: {}'.format(global_rmse))\n",
    "print('Local models RMSE: {}'.format(local_rmse))"
   ]
  },
  {
   "cell_type": "code",
   "execution_count": null,
   "metadata": {},
   "outputs": [],
   "source": [
    "plt.hlines(global_rmse, xmin=0, xmax=len(local_rmse), color='red') # global\n",
    "plt.plot(local_rmse, 'g.-') # locals\n",
    "plt.ylabel('RMSE')\n",
    "plt.show()"
   ]
  }
 ],
 "metadata": {
  "kernelspec": {
   "display_name": "Python 3",
   "language": "python",
   "name": "python3"
  },
  "language_info": {
   "codemirror_mode": {
    "name": "ipython",
    "version": 3
   },
   "file_extension": ".py",
   "mimetype": "text/x-python",
   "name": "python",
   "nbconvert_exporter": "python",
   "pygments_lexer": "ipython3",
   "version": "3.6.7"
  }
 },
 "nbformat": 4,
 "nbformat_minor": 2
}

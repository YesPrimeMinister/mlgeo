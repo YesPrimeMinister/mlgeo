{
 "cells": [
  {
   "cell_type": "markdown",
   "metadata": {},
   "source": [
    "# ___\n",
    "\n",
    "# [ Machine Learning in Geosciences ]\n",
    "\n",
    "**Department of Applied Geoinformatics and Carthography, Charles University** \n",
    "\n",
    "*Lukas Brodsky lukas.brodsky@natur.cuni.cz*\n",
    "    \n",
    "___"
   ]
  },
  {
   "cell_type": "markdown",
   "metadata": {},
   "source": [
    "# NumPy \n",
    "\n",
    "NumPy is a **Linear Algebra Library for Python**, the reason it is so important is that almost all of the libraries in the Python Scientific Stack ecosystem rely on NumPy as one of their main building blocks. We will only learn the basics of NumPy.\n",
    "\n",
    "After completing this tutorial, you shall know:\n",
    "\n",
    "* What the ndarray is and how to create and inspect an array in Python.\n",
    "* Key functions for creating new empty arrays and arrays with default values.\n",
    "* How to combine existing arrays to create new arrays."
   ]
  },
  {
   "cell_type": "markdown",
   "metadata": {},
   "source": [
    "## Documentation\n",
    "\n",
    "    \n",
    "Please refer to **[Numpy's official documentation](http://docs.scipy.org/doc/numpy-1.15.4)**, or **[NumPy Reference](https://docs.scipy.org/doc/numpy-1.15.0/reference/)**\n",
    "\n",
    "\n",
    "    \n",
    "    import numpy as np\n",
    "    np.__version__\n",
    "    "
   ]
  },
  {
   "cell_type": "markdown",
   "metadata": {},
   "source": [
    "## Using NumPy\n",
    "\n",
    "Import NumPy as a library:"
   ]
  },
  {
   "cell_type": "code",
   "execution_count": null,
   "metadata": {},
   "outputs": [],
   "source": [
    "# np is a shorter alias to numpy\n",
    "import numpy as np\n",
    "np.__version__"
   ]
  },
  {
   "cell_type": "markdown",
   "metadata": {},
   "source": [
    "Let's start with arrays.\n",
    "\n",
    "# Numpy Arrays\n",
    "\n",
    "Numpy arrays essentially come in two flavors: **vectors and matrices**. Vectors are strictly 1-d arrays and matrices are 2-d (but you should note a matrix can still have only one row or one column). **Array is a fxed-sized array in memory that contains data of the same type**, such as integers or foating point values. \n",
    "\n",
    "The data type supported by an array can be accessed via the dtype attribute on the array. The dimensions of an array can be accessed via the shape attribute that returns a tuple describing the length of each dimension.\n",
    "\n",
    "\n",
    "## Creating NumPy Arrays\n",
    "\n",
    "### From a Python List\n",
    "\n",
    "A simple way to create an array from data or simple Python data structures like a list is to use the *array()* \n",
    "function, e.g. from a list. "
   ]
  },
  {
   "cell_type": "code",
   "execution_count": null,
   "metadata": {},
   "outputs": [],
   "source": [
    "my_list = [1,2,3]\n",
    "my_list"
   ]
  },
  {
   "cell_type": "code",
   "execution_count": null,
   "metadata": {},
   "outputs": [],
   "source": [
    "# 1-D array, a vector\n",
    "np.array(my_list)"
   ]
  },
  {
   "cell_type": "code",
   "execution_count": null,
   "metadata": {},
   "outputs": [],
   "source": [
    "# 2-D array, a matrix\n",
    "my_matrix = [[1,2,3],[4,5,6],[7,8,9]]\n",
    "my_matrix"
   ]
  },
  {
   "cell_type": "code",
   "execution_count": null,
   "metadata": {},
   "outputs": [],
   "source": [
    "np.array(my_matrix)"
   ]
  },
  {
   "cell_type": "markdown",
   "metadata": {},
   "source": [
    "## Built-in Methods\n",
    "\n",
    "There are lots of built-in ways to generate Arrays"
   ]
  },
  {
   "cell_type": "markdown",
   "metadata": {},
   "source": [
    "### arange\n",
    "\n",
    "Return evenly spaced values within a given interval."
   ]
  },
  {
   "cell_type": "code",
   "execution_count": null,
   "metadata": {},
   "outputs": [],
   "source": [
    "np.arange(0,10)"
   ]
  },
  {
   "cell_type": "code",
   "execution_count": null,
   "metadata": {},
   "outputs": [],
   "source": [
    "# with step 2 \n",
    "np.arange(0,11,2)"
   ]
  },
  {
   "cell_type": "markdown",
   "metadata": {},
   "source": [
    "### zeros and ones\n",
    "\n",
    "Generate arrays of zeros or ones"
   ]
  },
  {
   "cell_type": "code",
   "execution_count": null,
   "metadata": {},
   "outputs": [],
   "source": [
    "np.zeros(3)"
   ]
  },
  {
   "cell_type": "code",
   "execution_count": null,
   "metadata": {},
   "outputs": [],
   "source": [
    "np.zeros((5,5,5))"
   ]
  },
  {
   "cell_type": "code",
   "execution_count": null,
   "metadata": {},
   "outputs": [],
   "source": [
    "np.ones(3)"
   ]
  },
  {
   "cell_type": "code",
   "execution_count": null,
   "metadata": {},
   "outputs": [],
   "source": [
    "np.ones((3,3))"
   ]
  },
  {
   "cell_type": "code",
   "execution_count": null,
   "metadata": {},
   "outputs": [],
   "source": [
    "# NumPy NaN value \n",
    "np.nan"
   ]
  },
  {
   "cell_type": "code",
   "execution_count": null,
   "metadata": {},
   "outputs": [],
   "source": [
    "a = [None, None, None]"
   ]
  },
  {
   "cell_type": "code",
   "execution_count": null,
   "metadata": {},
   "outputs": [],
   "source": [
    "a = np.array(a)"
   ]
  },
  {
   "cell_type": "code",
   "execution_count": null,
   "metadata": {},
   "outputs": [],
   "source": [
    "a"
   ]
  },
  {
   "cell_type": "markdown",
   "metadata": {},
   "source": [
    "Question: What is the difference between Python None and Numpy None? Is it identical? "
   ]
  },
  {
   "cell_type": "code",
   "execution_count": null,
   "metadata": {},
   "outputs": [],
   "source": [
    "if None == np.nan: \n",
    "    print('Python None is identical to NumPy nan')\n",
    "else: \n",
    "    print('Be aware: Python None is NOT identical to NumPy nan!')"
   ]
  },
  {
   "cell_type": "code",
   "execution_count": null,
   "metadata": {},
   "outputs": [],
   "source": [
    "type(a[0])"
   ]
  },
  {
   "cell_type": "markdown",
   "metadata": {},
   "source": [
    "### linspace\n",
    "Return **evenly spaced numbers** over a specified interval."
   ]
  },
  {
   "cell_type": "code",
   "execution_count": null,
   "metadata": {},
   "outputs": [],
   "source": [
    "np.linspace(0,10,3)"
   ]
  },
  {
   "cell_type": "code",
   "execution_count": null,
   "metadata": {},
   "outputs": [],
   "source": [
    "np.array((np.linspace(0,10,20), np.linspace(10,20,20)))"
   ]
  },
  {
   "cell_type": "markdown",
   "metadata": {},
   "source": [
    "## eye\n",
    "\n",
    "Creates an **identity matrix**."
   ]
  },
  {
   "cell_type": "code",
   "execution_count": null,
   "metadata": {},
   "outputs": [],
   "source": [
    "np.eye(4)"
   ]
  },
  {
   "cell_type": "markdown",
   "metadata": {},
   "source": [
    "## Random \n",
    "\n",
    "Numpy also has lots of ways to create random number arrays:\n",
    "\n",
    "### rand\n",
    "Create an array of the given shape and populate it with\n",
    "random samples from a **uniform distribution** \n",
    "over ``[0, 1)``."
   ]
  },
  {
   "cell_type": "code",
   "execution_count": null,
   "metadata": {},
   "outputs": [],
   "source": [
    "np.random.rand(2)"
   ]
  },
  {
   "cell_type": "code",
   "execution_count": null,
   "metadata": {},
   "outputs": [],
   "source": [
    "np.random.rand(5,5)"
   ]
  },
  {
   "cell_type": "code",
   "execution_count": null,
   "metadata": {},
   "outputs": [],
   "source": [
    "np.random.rand(3,2,1)"
   ]
  },
  {
   "cell_type": "markdown",
   "metadata": {},
   "source": [
    "### randn\n",
    "\n",
    "Return a sample (or samples) from the standard **normal distribution**. Unlike rand which is uniform. \n",
    "\n",
    "What is the mean and standard deviation of the normal distribution? "
   ]
  },
  {
   "cell_type": "code",
   "execution_count": null,
   "metadata": {},
   "outputs": [],
   "source": [
    "np.random.randn(2)"
   ]
  },
  {
   "cell_type": "code",
   "execution_count": null,
   "metadata": {},
   "outputs": [],
   "source": [
    "rd = np.random.randn(10000)"
   ]
  },
  {
   "cell_type": "code",
   "execution_count": null,
   "metadata": {},
   "outputs": [],
   "source": [
    "import matplotlib.pyplot as plt"
   ]
  },
  {
   "cell_type": "code",
   "execution_count": null,
   "metadata": {},
   "outputs": [],
   "source": [
    "plt.hist(rd)"
   ]
  },
  {
   "cell_type": "code",
   "execution_count": null,
   "metadata": {},
   "outputs": [],
   "source": [
    "print('The mean of the random values in randn is {}'.format(np.round(np.mean(rd), 2)))\n",
    "print('The standard deviation of the random values in randn is {}'.format(np.round(np.std(rd), 2)))"
   ]
  },
  {
   "cell_type": "markdown",
   "metadata": {},
   "source": [
    "### randint\n",
    "Return random integers from `low` (inclusive) to `high` (exclusive)."
   ]
  },
  {
   "cell_type": "code",
   "execution_count": null,
   "metadata": {},
   "outputs": [],
   "source": [
    "np.random.randint(1,100)"
   ]
  },
  {
   "cell_type": "code",
   "execution_count": null,
   "metadata": {},
   "outputs": [],
   "source": [
    "np.random.randint(1,100,10)"
   ]
  },
  {
   "cell_type": "markdown",
   "metadata": {},
   "source": [
    "## Array Attributes and Methods\n",
    "\n",
    "Let's discuss some useful attributes and methods or an array:"
   ]
  },
  {
   "cell_type": "code",
   "execution_count": null,
   "metadata": {},
   "outputs": [],
   "source": [
    "arr = np.arange(25)\n",
    "ranarr = np.random.randint(0,50,10)"
   ]
  },
  {
   "cell_type": "code",
   "execution_count": null,
   "metadata": {},
   "outputs": [],
   "source": [
    "arr"
   ]
  },
  {
   "cell_type": "code",
   "execution_count": null,
   "metadata": {},
   "outputs": [],
   "source": [
    "ranarr"
   ]
  },
  {
   "cell_type": "markdown",
   "metadata": {},
   "source": [
    "## Reshape\n",
    "Returns an array containing **the same data with a new shape**."
   ]
  },
  {
   "cell_type": "code",
   "execution_count": null,
   "metadata": {},
   "outputs": [],
   "source": [
    "arr.reshape(5,5)"
   ]
  },
  {
   "cell_type": "code",
   "execution_count": null,
   "metadata": {},
   "outputs": [],
   "source": [
    "arr.reshape(1,5,5)"
   ]
  },
  {
   "cell_type": "markdown",
   "metadata": {},
   "source": [
    "### max, min, argmax, argmin\n",
    "\n",
    "These are useful methods for finding **max** or **min** values. Or to find their **index locations** using argmin or argmax"
   ]
  },
  {
   "cell_type": "code",
   "execution_count": null,
   "metadata": {},
   "outputs": [],
   "source": [
    "ranarr"
   ]
  },
  {
   "cell_type": "code",
   "execution_count": null,
   "metadata": {},
   "outputs": [],
   "source": [
    "ranarr.max()"
   ]
  },
  {
   "cell_type": "code",
   "execution_count": null,
   "metadata": {},
   "outputs": [],
   "source": [
    "# an index of the max. value\n",
    "ranarr.argmax()"
   ]
  },
  {
   "cell_type": "code",
   "execution_count": null,
   "metadata": {},
   "outputs": [],
   "source": [
    "ranarr.min()"
   ]
  },
  {
   "cell_type": "code",
   "execution_count": null,
   "metadata": {},
   "outputs": [],
   "source": [
    "ranarr.argmin()"
   ]
  },
  {
   "cell_type": "markdown",
   "metadata": {},
   "source": [
    "## Shape\n",
    "\n",
    "Shape is an attribute that arrays have (not a method):"
   ]
  },
  {
   "cell_type": "code",
   "execution_count": null,
   "metadata": {},
   "outputs": [],
   "source": [
    "arr"
   ]
  },
  {
   "cell_type": "code",
   "execution_count": null,
   "metadata": {},
   "outputs": [],
   "source": [
    "# Vector\n",
    "arr.shape"
   ]
  },
  {
   "cell_type": "code",
   "execution_count": null,
   "metadata": {},
   "outputs": [],
   "source": [
    "# Notice the two sets of brackets! \n",
    "arr.reshape(1,25)"
   ]
  },
  {
   "cell_type": "code",
   "execution_count": null,
   "metadata": {},
   "outputs": [],
   "source": [
    "arr.reshape(1,25).shape"
   ]
  },
  {
   "cell_type": "code",
   "execution_count": null,
   "metadata": {},
   "outputs": [],
   "source": [
    "arr.reshape(25,1)"
   ]
  },
  {
   "cell_type": "code",
   "execution_count": null,
   "metadata": {},
   "outputs": [],
   "source": [
    "arr.reshape(25,1).shape"
   ]
  },
  {
   "cell_type": "markdown",
   "metadata": {},
   "source": [
    "### dtype\n",
    "\n",
    "You can also grab the data type of the object in the array:"
   ]
  },
  {
   "cell_type": "code",
   "execution_count": null,
   "metadata": {},
   "outputs": [],
   "source": [
    "arr.dtype"
   ]
  },
  {
   "cell_type": "code",
   "execution_count": null,
   "metadata": {},
   "outputs": [],
   "source": [
    "# data type casting \n",
    "arr.astype(np.int8)"
   ]
  },
  {
   "cell_type": "markdown",
   "metadata": {},
   "source": [
    "## Combining Arrays"
   ]
  },
  {
   "cell_type": "markdown",
   "metadata": {},
   "source": [
    "NumPy provides many functions to create new arrays from existing arrays."
   ]
  },
  {
   "cell_type": "markdown",
   "metadata": {},
   "source": [
    "### Vertical Stack \n",
    "\n",
    "Given two or more existing arrays, you can stack them vertically using the vstack() function. For example, given two one-dimensional arrays, you can create a new two-dimensional array with two rows by vertically stacking them.\n"
   ]
  },
  {
   "cell_type": "code",
   "execution_count": null,
   "metadata": {},
   "outputs": [],
   "source": [
    "# create array with vstack\n",
    "\n",
    "# create first array\n",
    "a1 = np.array([1,2,3])\n",
    "print('This is a1 array')\n",
    "print(a1)\n",
    "print(' ')\n",
    "\n",
    "# create second array\n",
    "a2 = np.array([4,5,6])\n",
    "print('This is a2 array')\n",
    "print(a2)\n",
    "print(' ')\n",
    "\n",
    "# vertical stack\n",
    "a3 = np.vstack((a1, a2)) \n",
    "print('This is the vstack array from a1 and a2')\n",
    "print(a3)\n",
    "print('which has the shape: ')\n",
    "print(a3.shape)"
   ]
  },
  {
   "cell_type": "markdown",
   "metadata": {},
   "source": [
    "### Horizontal Stack \n",
    "\n",
    "Given two or more existing arrays, you can stack them horizontally using the hstack() function. For example, given two one-dimensional arrays, you can create a new one-dimensional array or one row with the columns of the frst and second arrays concatenated.\n"
   ]
  },
  {
   "cell_type": "code",
   "execution_count": null,
   "metadata": {},
   "outputs": [],
   "source": [
    "# create array with hstack\n",
    "\n",
    "# create first array\n",
    "a1 = np.array([1,2,3])\n",
    "print('This is a1 array')\n",
    "print(a1)\n",
    "print(' ')\n",
    "\n",
    "# create second array\n",
    "a2 = np.array([4,5,6])\n",
    "print('This is a1 array')\n",
    "print(a2)\n",
    "print(' ')\n",
    "\n",
    "# create horizontal stack\n",
    "a3 = np.hstack((a1, a2))\n",
    "print('This is the vstack array')\n",
    "print(a3)\n",
    "print(' ')\n",
    "print('which has the shape: ')\n",
    "print(a3.shape)"
   ]
  },
  {
   "cell_type": "markdown",
   "metadata": {},
   "source": [
    "### Array Indexing"
   ]
  },
  {
   "cell_type": "code",
   "execution_count": null,
   "metadata": {},
   "outputs": [],
   "source": [
    "# index a one-dimensional array\n",
    "\n",
    "# define array\n",
    "data = np.array([11, 22, 33, 44, 55])\n",
    "# index data\n",
    "print(data[0])\n",
    "print(data[4])"
   ]
  },
  {
   "cell_type": "markdown",
   "metadata": {},
   "source": [
    "### Indexing starts at 0 position!!!"
   ]
  },
  {
   "cell_type": "code",
   "execution_count": null,
   "metadata": {},
   "outputs": [],
   "source": [
    "# index array out of bounds\n",
    "print(data[5])"
   ]
  },
  {
   "cell_type": "code",
   "execution_count": null,
   "metadata": {},
   "outputs": [],
   "source": [
    "# negative array indexing\n",
    "# use negative indexes to retrieve values offset from the end of the array\n",
    "\n",
    "print(data[-1])\n",
    "print(data[-5])"
   ]
  },
  {
   "cell_type": "code",
   "execution_count": null,
   "metadata": {},
   "outputs": [],
   "source": [
    "# index two-dimensional array\n",
    "\n",
    "# define array\n",
    "data = np.array([\n",
    "[11, 22],\n",
    "[33, 44],\n",
    "[55, 66]])\n",
    "# index data\n",
    "print(data[0,0])"
   ]
  },
  {
   "cell_type": "code",
   "execution_count": null,
   "metadata": {},
   "outputs": [],
   "source": [
    "# index row of two-dimensional array\n",
    "\n",
    "print(data[0,])"
   ]
  },
  {
   "cell_type": "markdown",
   "metadata": {},
   "source": [
    "### Array Slicing"
   ]
  },
  {
   "cell_type": "code",
   "execution_count": null,
   "metadata": {},
   "outputs": [],
   "source": [
    "# slice a one-dimensional array\n",
    "# You can access all data in an array dimension by specifying the slice `:' with no indexes \n",
    "\n",
    "data = np.array([11, 22, 33, 44, 55])\n",
    "print(data[:])"
   ]
  },
  {
   "cell_type": "code",
   "execution_count": null,
   "metadata": {},
   "outputs": [],
   "source": [
    "# slice a subset of a one-dimensional array\n",
    "# The first item of the array can be sliced by specifying a slice that starts at index 0 and ends at index 1\n",
    "\n",
    "print(data[0:2])"
   ]
  },
  {
   "cell_type": "code",
   "execution_count": null,
   "metadata": {},
   "outputs": [],
   "source": [
    "# negative slicing of a one-dimensional array\n",
    "# we can slice the last two items in the list by starting the slice at -2\n",
    "\n",
    "print(data[-2:]) "
   ]
  },
  {
   "cell_type": "markdown",
   "metadata": {},
   "source": [
    "### Two-Dimensional Slicing\n",
    "\n",
    "X = [:, :-1]"
   ]
  },
  {
   "cell_type": "code",
   "execution_count": null,
   "metadata": {},
   "outputs": [],
   "source": [
    "# split input and output data\n",
    "\n",
    "data = np.array([\n",
    "[11, 22, 33],\n",
    "[44, 55, 66],\n",
    "[77, 88, 99]])\n",
    "\n",
    "# separate data\n",
    "X, y = data[:, :-1], data[:, -1]\n",
    "print(X)\n",
    "print('---')\n",
    "print(y)"
   ]
  },
  {
   "cell_type": "code",
   "execution_count": null,
   "metadata": {},
   "outputs": [],
   "source": [
    "# split train and test data\n",
    "\n",
    "data = np.array([\n",
    "[11, 22, 33],\n",
    "[44, 55, 66],\n",
    "[77, 88, 99]])\n",
    "\n",
    "# separate data\n",
    "split = 2\n",
    "train, test = data[:split,:],data[split:,:]\n",
    "print(train)\n",
    "print('---')\n",
    "print(test)"
   ]
  },
  {
   "cell_type": "markdown",
   "metadata": {},
   "source": [
    "### Vectors and Matrices Arithmetic"
   ]
  },
  {
   "cell_type": "markdown",
   "metadata": {},
   "source": [
    "#### Vectors\n",
    "Vectors are often represented using a lowercase character such as v; for example:\n",
    "\n",
    "     v = (v1; v2; v3)\n",
    "    \n",
    "Where v1, v2, v3 are scalar values, often real values.\n",
    "\n",
    "Vectors are also shown using a vertical representation or a column; for example:\n",
    "\n",
    "           v1 \n",
    "     v = ( v2 )\n",
    "           v3\n"
   ]
  },
  {
   "cell_type": "code",
   "execution_count": null,
   "metadata": {},
   "outputs": [],
   "source": [
    "# vector addition\n",
    "# c = (a1 + b1; a2 + b2; a3 + b3)\n",
    "\n",
    "# define first vector\n",
    "a = np.array([1, 2, 3])\n",
    "print('Vector a: ')\n",
    "print(a)\n",
    "# define second vector\n",
    "b = np.array([1, 2, 3])\n",
    "print('Vector b: ')\n",
    "print(b)\n",
    "# add vectors\n",
    "print('---')\n",
    "print('Vector addition a + b: ')\n",
    "c = a + b\n",
    "print(c)"
   ]
  },
  {
   "cell_type": "code",
   "execution_count": null,
   "metadata": {},
   "outputs": [],
   "source": [
    "# vector subtraction\n",
    "# c = (a1 - b1; a2 - b2; a3 - b3)\n",
    "\n",
    "print('Vector a: ')\n",
    "print(a)\n",
    "print('Vector b: ')\n",
    "print(b)\n",
    "\n",
    "# subtract vectors\n",
    "print('Vector subtraction a - b: ')\n",
    "c = a - b\n",
    "print(c)"
   ]
  },
  {
   "cell_type": "code",
   "execution_count": null,
   "metadata": {},
   "outputs": [],
   "source": [
    "# vector multiplication\n",
    "# c = a x b\n",
    "# c[0] = a[0] x b[0]\n",
    "# c[1] = a[1] x b[1]\n",
    "# c[2] = a[2] x b[2]\n",
    "\n",
    "\n",
    "print('Vector a: ')\n",
    "print(a)\n",
    "print('Vector b: ')\n",
    "print(b)\n",
    "\n",
    "# multiply vectors\n",
    "print('Vector multiplication a x b: ')\n",
    "c = a * b\n",
    "print(c)"
   ]
  },
  {
   "cell_type": "code",
   "execution_count": null,
   "metadata": {},
   "outputs": [],
   "source": [
    "# vector division\n",
    "# c = a / b\n",
    "# c[0] = a[0] / b[0]\n",
    "# c[1] = a[1] / b[1]\n",
    "# c[2] = a[2] / b[2]\n",
    "\n",
    "\n",
    "print('Vector a: ')\n",
    "print(a)\n",
    "print('Vector b: ')\n",
    "print(b)\n",
    "\n",
    "# divide vectors\n",
    "print('Vector division a / b: ')\n",
    "c = a / b\n",
    "print(c)"
   ]
  },
  {
   "cell_type": "markdown",
   "metadata": {},
   "source": [
    "### Vector dot product\n",
    "We can calculate the sum of the multiplied elements of two vectors of the same length to give a scalar. This is called the dot product, named because of the dot operator used when describing the operation.\n",
    " \n",
    "    c = a . b\n",
    "\n",
    "The operation can be used in machine learning to calculate the weighted sum of a vector. \n",
    "\n",
    "The dot product is calculated as follows:\n",
    "\n",
    "    c = (a1 x b1 + a2 x b2 + a3 x b3)\n",
    "    \n",
    "    "
   ]
  },
  {
   "cell_type": "code",
   "execution_count": null,
   "metadata": {},
   "outputs": [],
   "source": [
    "# vector dot product\n",
    "\n",
    "# define first vector\n",
    "a = np.array([1, 2, 3])\n",
    "print('Vector a: ')\n",
    "print(a)\n",
    "# define second vector\n",
    "b = np.array([1, 2, 3])\n",
    "print('Vector b: ')\n",
    "print(b)\n",
    "\n",
    "# multiply vectors\n",
    "print('---')\n",
    "print('Vector dot product: ')\n",
    "c = a.dot(b)\n",
    "print(c)"
   ]
  },
  {
   "cell_type": "markdown",
   "metadata": {},
   "source": [
    "### Vector-Scalar Multiplication \n",
    "(we will use lowercase s to represent the scalar value) \n",
    "\n",
    "    c = s . v\n",
    "\n",
    "The multiplication is performed on each element of the vector to result in a new scaled\n",
    "vector of the same length.\n",
    "    \n",
    "    c = (s x v1; s x v2; s x v3)\n",
    "    \n",
    "\n",
    "Or, put another way:\n",
    "\n",
    "    c[0] = v[0] x s\n",
    "    c[1] = v[1] x s\n",
    "    c[2] = v[2] x s\n",
    "    "
   ]
  },
  {
   "cell_type": "code",
   "execution_count": null,
   "metadata": {},
   "outputs": [],
   "source": [
    "# vector-scalar multiplication\n",
    "\n",
    "# define vector\n",
    "a = np.array([1, 2, 3])\n",
    "print('Vector a: ')\n",
    "print(a)\n",
    "# define scalar\n",
    "s = 0.5\n",
    "print('Scalar s: ')\n",
    "print(s)\n",
    "# multiplication\n",
    "print('---')\n",
    "print('Vector-scalar multiplication: s * a')\n",
    "c = s * a\n",
    "print(c)"
   ]
  },
  {
   "cell_type": "markdown",
   "metadata": {},
   "source": [
    "### Matrices and Matrix Arithmetic\n",
    "\n",
    "Matrices are a foundational element of linear algebra. \n",
    "A matrix is a two-dimensional array of scalars with one or more columns and one or more rows. \n",
    "\n",
    "For example, we can define a 3-row, 2-column matrix:\n",
    "    \n",
    "    A = ((a1,1; a1,2); (a2,1; a2,2); (a3,1; a3,2))\n",
    "\n",
    "    "
   ]
  },
  {
   "cell_type": "code",
   "execution_count": null,
   "metadata": {},
   "outputs": [],
   "source": [
    "# create matrix\n",
    "\n",
    "A = np.array([[1, 2, 3], [4, 5, 6]])\n",
    "print(A)"
   ]
  },
  {
   "cell_type": "markdown",
   "metadata": {},
   "source": [
    "### Matrix Addition\n",
    "\n",
    "Two matrices with the same dimensions can be added together to create a new third matrix.\n",
    "    \n",
    "    C = A + B\n",
    "\n",
    "The scalar elements in the resulting matrix are calculated as the addition of the elements in\n",
    "each of the matrices being added.\n"
   ]
  },
  {
   "cell_type": "code",
   "execution_count": null,
   "metadata": {},
   "outputs": [],
   "source": [
    "# matrix addition\n",
    "\n",
    "\n",
    "# define first matrix\n",
    "A = np.array([\n",
    "[1, 2, 3],\n",
    "[4, 5, 6]])\n",
    "print('Matrix A: ')\n",
    "print(A)\n",
    "# define second matrix\n",
    "B = np.array([\n",
    "[1, 2, 3],\n",
    "[4, 5, 6]])\n",
    "print('Matrix B: ')\n",
    "print(B)\n",
    "\n",
    "# add matrices\n",
    "print('---')\n",
    "print('Matrix addition A + B : ')\n",
    "C = A + B\n",
    "print(C)"
   ]
  },
  {
   "cell_type": "markdown",
   "metadata": {},
   "source": [
    "### Matrix Subtraction\n",
    "\n",
    "Similarly, one matrix can be subtracted from another matrix with the same dimensions.\n",
    "\n",
    "    C = A - B\n",
    "    "
   ]
  },
  {
   "cell_type": "code",
   "execution_count": null,
   "metadata": {},
   "outputs": [],
   "source": [
    "# matrix subtraction\n",
    "\n",
    "# define first matrix\n",
    "\n",
    "print('Matrix A: ')\n",
    "print(A)\n",
    "\n",
    "# define second matrix\n",
    "print('Matrix B: ')\n",
    "print(B)\n",
    "# subtract matrices\n",
    "print('---')\n",
    "print('Matrix addition A - B : ')\n",
    "C = A - B\n",
    "print(C)"
   ]
  },
  {
   "cell_type": "markdown",
   "metadata": {},
   "source": [
    "### Matrix Division \n",
    "\n",
    "One matrix can be divided by another matrix with the same dimensions.\n",
    "\n",
    "    C = A / B\n",
    "\n",
    "\n",
    "    C[0; 0] = A[0; 0] / B[0; 0]\n",
    "    C[1; 0] = A[1; 0] / B[1; 0]\n",
    "    C[2; 0] = A[2; 0] / B[2; 0]\n",
    "    C[0; 1] = A[0; 1] / B[0; 1]\n",
    "    C[1; 1] = A[1; 1] / B[1; 1]\n",
    "    C[2; 1] = A[2; 1] / B[2; 1]\n",
    "   "
   ]
  },
  {
   "cell_type": "code",
   "execution_count": null,
   "metadata": {},
   "outputs": [],
   "source": [
    "# matrix division\n",
    "\n",
    "# define first matrix\n",
    "print('Matrix A: ')\n",
    "print(A)\n",
    "# define second matrix\n",
    "print('Matrix B: ')\n",
    "print(B)\n",
    "# divide matrices\n",
    "\n",
    "print('---')\n",
    "print('Matrix division A / B : ')\n",
    "C = A / B\n",
    "print(C)"
   ]
  },
  {
   "cell_type": "markdown",
   "metadata": {},
   "source": [
    "### Matrix-Matrix Multiplication\n",
    "\n",
    "Matrix multiplication, also called the matrix dot product is more complicated than the previous\n",
    "operations and involves a rule as not all matrices can be multiplied together.\n",
    "\n",
    "    C = A o B \n",
    "\n",
    "The number of columns (n) in the first matrix (A) must equal the number of rows (m) in\n",
    "the second matrix (B).\n",
    "\n",
    "For example, matrix A has the dimensions m rows and n columns and matrix B has the dimensions n and k. The n columns in A and n rows in B are equal. The result is a new matrix with m rows and k columns.\n",
    "\n",
    "    C(m; k) = A(m; n) o B(n; k)\n",
    "\n",
    "\n",
    "We can describe the matrix multiplication operation using array notation.\n",
    "    \n",
    "    C[0; 0] = A[0; 0] \u0002 B[0; 0] + A[0; 1] \u0002 B[1; 0]\n",
    "    C[1; 0] = A[1; 0] \u0002 B[0; 0] + A[1; 1] \u0002 B[1; 0]\n",
    "    C[2; 0] = A[2; 0] \u0002 B[0; 0] + A[2; 1] \u0002 B[1; 0]\n",
    "    C[0; 1] = A[0; 0] \u0002 B[0; 1] + A[0; 1] \u0002 B[1; 1]\n",
    "    C[1; 1] = A[1; 0] \u0002 B[0; 1] + A[1; 1] \u0002 B[1; 1]\n",
    "    C[2; 1] = A[2; 0] \u0002 B[0; 1] + A[2; 1] \u0002 B[1; 1]\n",
    "\n"
   ]
  },
  {
   "cell_type": "code",
   "execution_count": null,
   "metadata": {},
   "outputs": [],
   "source": [
    "# matrix dot product\n",
    "from numpy import array\n",
    "# define first matrix\n",
    "A = np.array([\n",
    "[1, 2],\n",
    "[3, 4],\n",
    "[5, 6]])\n",
    "print('Matrix A: ')\n",
    "print(A)\n",
    "# define second matrix\n",
    "B = array([\n",
    "[1, 2],\n",
    "[3, 4]])\n",
    "print('Matrix B: ')\n",
    "print(B)\n",
    "\n",
    "# multiply matrices\n",
    "print('---')\n",
    "print('Matricies  A and B  dot product: ')\n",
    "C = A.dot(B)\n",
    "print(C)\n"
   ]
  },
  {
   "cell_type": "markdown",
   "metadata": {},
   "source": [
    "### Matrix-Vector Multiplication\n",
    "\n",
    "A matrix and a vector can be multiplied together as long as the rule of matrix multiplication\n",
    "is observed. Specifically, that the number of columns in the matrix must equal the number of\n",
    "items in the vector. As with matrix multiplication, the operation can be written using the dot\n",
    "notation. Because the vector only has one column, the result is always a vector.\n",
    "\n",
    "    c = A \u0001 v\n",
    "\n",
    "We can also represent this with array notation.\n",
    "\n",
    "    c[0] = A[0; 0] \u0002 v[0] + A[0; 1] \u0002 v[1]\n",
    "    c[1] = A[1; 0] \u0002 v[0] + A[1; 1] \u0002 v[1]\n",
    "    c[2] = A[2; 0] \u0002 v[0] + A[2; 1] \u0002 v[1]\n",
    "   "
   ]
  },
  {
   "cell_type": "code",
   "execution_count": null,
   "metadata": {},
   "outputs": [],
   "source": [
    "# matrix-vector multiplication\n",
    "\n",
    "# define matrix\n",
    "A = np.array([\n",
    "[1, 2],\n",
    "[3, 4],\n",
    "[5, 6]])\n",
    "print('Matrix A: ')\n",
    "print(A)\n",
    "\n",
    "# define vector\n",
    "B = np.array([0.5, 0.5])\n",
    "print('Vector B: ')\n",
    "print(B)\n",
    "\n",
    "# multiply\n",
    "print('---')\n",
    "print('Matrix A and vector B dot product: ')\n",
    "C = A.dot(B)\n",
    "print(C)"
   ]
  },
  {
   "cell_type": "markdown",
   "metadata": {},
   "source": [
    "### Matrix-Scalar Multiplication\n",
    "\n",
    "A matrix can be multiplied by a scalar. This can be represented using the dot notation between\n",
    "the matrix and the scalar.\n",
    "\n",
    "    C = A o b\n",
    "\n",
    "We can also represent this with array notation.\n",
    "\n",
    "    C[0; 0] = A[0; 0] o b\n",
    "    C[1; 0] = A[1; 0] o b\n",
    "    C[2; 0] = A[2; 0] o b\n",
    "    C[0; 1] = A[0; 1] o b\n",
    "    C[1; 1] = A[1; 1] o b\n",
    "    C[2; 1] = A[2; 1] o b\n",
    "\n"
   ]
  },
  {
   "cell_type": "code",
   "execution_count": null,
   "metadata": {},
   "outputs": [],
   "source": [
    "# matrix-scalar multiplication\n",
    "\n",
    "# define matrix\n",
    "A = np.array([[1, 2], [3, 4], [5, 6]])\n",
    "print('Matrix A: ')\n",
    "print(A)\n",
    "# define scalar\n",
    "print('Scalar b: ')\n",
    "b = 0.5\n",
    "print(b)\n",
    "\n",
    "# multiply\n",
    "print('---')\n",
    "print('Matricix A and scalar b multiplication: ')\n",
    "C = A * b\n",
    "print(C)"
   ]
  },
  {
   "cell_type": "code",
   "execution_count": null,
   "metadata": {},
   "outputs": [],
   "source": [
    "# Matrix transposition \n",
    "mat = np.array([[1,2,3],[4,5,6]])\n",
    "mat"
   ]
  },
  {
   "cell_type": "code",
   "execution_count": null,
   "metadata": {},
   "outputs": [],
   "source": [
    "mat.transpose()"
   ]
  },
  {
   "cell_type": "markdown",
   "metadata": {},
   "source": [
    "## Practice"
   ]
  },
  {
   "cell_type": "markdown",
   "metadata": {},
   "source": [
    "<span style=\"color:red\">Exercise 1:</span> Create Numpy ndarray from below given list. "
   ]
  },
  {
   "cell_type": "code",
   "execution_count": null,
   "metadata": {},
   "outputs": [],
   "source": [
    "short_list = [1,2,3,4,5]\n",
    "... "
   ]
  },
  {
   "cell_type": "markdown",
   "metadata": {},
   "source": [
    "<span style=\"color:red\">Exercise 2:</span> Create Numpy 2D array of zeros with shape 10 x 10. "
   ]
  },
  {
   "cell_type": "code",
   "execution_count": null,
   "metadata": {},
   "outputs": [],
   "source": [
    "..."
   ]
  },
  {
   "cell_type": "markdown",
   "metadata": {},
   "source": [
    "<span style=\"color:red\">Exercise 3:</span> Create Numpy vector from 0 to 100 with step 5. "
   ]
  },
  {
   "cell_type": "code",
   "execution_count": null,
   "metadata": {},
   "outputs": [],
   "source": [
    "..."
   ]
  },
  {
   "cell_type": "markdown",
   "metadata": {},
   "source": [
    "<span style=\"color:red\">Exercise 4:</span> Create Numpy 3D array of random values with shape 6 x 100 x 100. "
   ]
  },
  {
   "cell_type": "code",
   "execution_count": null,
   "metadata": {},
   "outputs": [],
   "source": [
    "..."
   ]
  },
  {
   "cell_type": "markdown",
   "metadata": {},
   "source": [
    "<span style=\"color:red\">Exercise 5:</span> Reshape the above created array into 6 x 10000. "
   ]
  },
  {
   "cell_type": "code",
   "execution_count": null,
   "metadata": {},
   "outputs": [],
   "source": [
    "..."
   ]
  },
  {
   "cell_type": "markdown",
   "metadata": {},
   "source": [
    "<span style=\"color:red\">Exercise 6:</span> Create three Numpy 2D arrays of shape 10 x 10 and stack them into (10, 10). "
   ]
  },
  {
   "cell_type": "code",
   "execution_count": null,
   "metadata": {},
   "outputs": [],
   "source": [
    "..."
   ]
  },
  {
   "cell_type": "markdown",
   "metadata": {},
   "source": [
    "<span style=\"color:red\">Exercise 7:</span> Apply this formula: y = alpha + beta * X and visualize with Matplotlib imshow(). "
   ]
  },
  {
   "cell_type": "code",
   "execution_count": null,
   "metadata": {},
   "outputs": [],
   "source": [
    "X = np.random.randint(0,25,25)\n",
    "alpha = 0.1\n",
    "beta = 0.75\n",
    "..."
   ]
  },
  {
   "cell_type": "markdown",
   "metadata": {},
   "source": [
    "# So far all!"
   ]
  }
 ],
 "metadata": {
  "kernelspec": {
   "display_name": "Python 3 (ipykernel)",
   "language": "python",
   "name": "python3"
  },
  "language_info": {
   "codemirror_mode": {
    "name": "ipython",
    "version": 3
   },
   "file_extension": ".py",
   "mimetype": "text/x-python",
   "name": "python",
   "nbconvert_exporter": "python",
   "pygments_lexer": "ipython3",
   "version": "3.9.10"
  }
 },
 "nbformat": 4,
 "nbformat_minor": 1
}
